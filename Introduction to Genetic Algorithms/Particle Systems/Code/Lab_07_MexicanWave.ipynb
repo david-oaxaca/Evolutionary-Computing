{
  "nbformat": 4,
  "nbformat_minor": 0,
  "metadata": {
    "colab": {
      "name": "MexicanWave.ipynb",
      "provenance": [],
      "collapsed_sections": []
    },
    "kernelspec": {
      "name": "python3",
      "display_name": "Python 3"
    },
    "language_info": {
      "name": "python"
    },
    "widgets": {
      "application/vnd.jupyter.widget-state+json": {
        "9aa05518f9f949b9a342b901fdc6efc7": {
          "model_module": "@jupyter-widgets/controls",
          "model_name": "ImageModel",
          "model_module_version": "1.5.0",
          "state": {
            "_view_name": "ImageView",
            "_dom_classes": [],
            "_model_name": "ImageModel",
            "format": "png",
            "_view_module": "@jupyter-widgets/controls",
            "_model_module_version": "1.5.0",
            "_view_count": null,
            "width": "",
            "_view_module_version": "1.5.0",
            "layout": "IPY_MODEL_ab95010105574f61857f5b285e4fa4d7",
            "height": "",
            "_model_module": "@jupyter-widgets/controls"
          }
        },
        "ab95010105574f61857f5b285e4fa4d7": {
          "model_module": "@jupyter-widgets/base",
          "model_name": "LayoutModel",
          "model_module_version": "1.2.0",
          "state": {
            "_view_name": "LayoutView",
            "grid_template_rows": null,
            "right": null,
            "justify_content": null,
            "_view_module": "@jupyter-widgets/base",
            "overflow": null,
            "_model_module_version": "1.2.0",
            "_view_count": null,
            "flex_flow": null,
            "width": null,
            "min_width": null,
            "border": null,
            "align_items": null,
            "bottom": null,
            "_model_module": "@jupyter-widgets/base",
            "top": null,
            "grid_column": null,
            "overflow_y": null,
            "overflow_x": null,
            "grid_auto_flow": null,
            "grid_area": null,
            "grid_template_columns": null,
            "flex": null,
            "_model_name": "LayoutModel",
            "justify_items": null,
            "grid_row": null,
            "max_height": null,
            "align_content": null,
            "visibility": null,
            "align_self": null,
            "height": null,
            "min_height": null,
            "padding": null,
            "grid_auto_rows": null,
            "grid_gap": null,
            "max_width": null,
            "order": null,
            "_view_module_version": "1.2.0",
            "grid_template_areas": null,
            "object_position": null,
            "object_fit": null,
            "grid_auto_columns": null,
            "margin": null,
            "display": null,
            "left": null
          }
        }
      }
    }
  },
  "cells": [
    {
      "cell_type": "code",
      "metadata": {
        "id": "N4kk-yJRkNcj"
      },
      "source": [
        "import cv2\n",
        "import numpy as np\n",
        "#from google.colab.patches import cv2_imshow\n",
        "#import math\n",
        "#import time\n",
        "from IPython import display as display\n",
        "\n",
        "import ipywidgets as ipw\n",
        "import PIL\n",
        "from io import BytesIO\n"
      ],
      "execution_count": null,
      "outputs": []
    },
    {
      "cell_type": "code",
      "metadata": {
        "id": "R-eu2pwFiR44",
        "colab": {
          "base_uri": "https://localhost:8080/",
          "height": 525,
          "referenced_widgets": [
            "9aa05518f9f949b9a342b901fdc6efc7",
            "ab95010105574f61857f5b285e4fa4d7"
          ]
        },
        "outputId": "f264c6f9-9b52-408a-d29e-7ce2449e7f92"
      },
      "source": [
        "N=20\n",
        "particles = np.zeros((N,N))\n",
        "up= np.ones((N,N))\n",
        "\n",
        "wIm = ipw.Image()\n",
        "display.display(wIm)\n",
        "\n",
        "\n",
        "maxX=500\n",
        "maxY=500\n",
        "x0=100\n",
        "y0=100\n",
        "r=2\n",
        "\n",
        "def graph_particles(img):\n",
        "  global particles,x0,y0,maxX,maxY,N, r\n",
        "  stridex = (maxX - 2*x0)/N\n",
        "  stridey = (maxY - 2*y0)/N\n",
        "  for i in range(N):\n",
        "    for j in range(N):\n",
        "      cv2.circle(img,(int(x0+stridex*i),int(y0+stridey*j)),int(r+particles[i][j]),(255,255,255),-1)\n",
        "\n",
        "def iteration():\n",
        "  global particles, N\n",
        "  #influence of neighbors\n",
        "  for i in range(N):\n",
        "    for j in range(N):\n",
        "      if i>0 and i<N-1 and j>0 and j<N-1 and up[i][j]==1:\n",
        "        # Inicio de ola desde el centro\n",
        "        particles[i][j]+= 0.1*particles[i][j-1]\n",
        "        particles[i][j]+= 0.1*particles[i-1][j] + 0.1*particles[i+1][j]\n",
        "        particles[i][j]+= 0.1*particles[i][j+1] \n",
        "\n",
        "        # Inicio de ola desde la primera fila\n",
        "        # particles[i][j]+= 0.1*particles[i-1][j-1] + 0.1*particles[i+1][j-1]\n",
        "        # particles[i][j]+= 0.1*particles[i-1][j+1] + 0.1*particles[i+1][j+1] \n",
        "      if up[i][j]==1 and particles[i][j]>=5:\n",
        "        up[i][j]=0\n",
        "      if up[i][j]==0 and particles[i][j]<=0.5:\n",
        "        up[i][j]=1\n",
        "      #decay \n",
        "      particles[i][j]*=0.9\n",
        "\n",
        "  \n",
        "img = np.zeros((500, 500, 3), dtype=\"uint8\")\n",
        "\n",
        "# Particulas que iniciaran con la ola\n",
        "#for i in range(9):\n",
        "#  particles[(i+1)*2][1]=1.5\n",
        "\n",
        "# Particula inicial para una ola desde el centro\n",
        "particles[9][9]=1.5\n",
        "\n",
        "\n",
        "graph_particles(img)\n",
        "\n",
        "for i in range(500):\n",
        "  iteration()\n",
        "  img[:]=(0,0,0)\n",
        "  cv2.putText( img,str(i),(20,20),cv2.FONT_HERSHEY_SIMPLEX,1,(255,255,255))\n",
        "  # display.clear_output(wait=True)\n",
        "\n",
        "  graph_particles(img)\n",
        "  pilIm = PIL.Image.fromarray(img, mode=\"RGB\")\n",
        "  with BytesIO() as fOut:\n",
        "      pilIm.save(fOut, format=\"png\")\n",
        "      byPng = fOut.getvalue()\n",
        "        \n",
        "  # set the png bytes as the image value; \n",
        "  # this updates the image in the browser.\n",
        "  wIm.value=byPng  \n",
        "  # time.sleep(0.0)\n",
        "\n",
        "\n"
      ],
      "execution_count": null,
      "outputs": [
        {
          "output_type": "display_data",
          "data": {
            "application/vnd.jupyter.widget-view+json": {
              "model_id": "9aa05518f9f949b9a342b901fdc6efc7",
              "version_minor": 0,
              "version_major": 2
            },
            "text/plain": [
              "Image(value=b'')"
            ]
          },
          "metadata": {}
        }
      ]
    }
  ]
}